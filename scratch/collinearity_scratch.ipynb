{
 "cells": [
  {
   "cell_type": "code",
   "execution_count": null,
   "id": "87ddb845",
   "metadata": {},
   "outputs": [],
   "source": [
    "# option 1: use correlation between numerical vars to remove\n",
    "\n",
    "corr_matrix = num_features.corr()\n",
    "\n",
    "# Extract only highly correlated columns\n",
    "threshold = 0.8\n",
    "highly_correlated_cols = corr_matrix[abs(corr_matrix) > threshold].stack().reset_index()\n",
    "highly_correlated_cols = highly_correlated_cols[\n",
    "    highly_correlated_cols[\"level_0\"] != highly_correlated_cols[\"level_1\"]\n",
    "]\n",
    "highly_correlated_cols = highly_correlated_cols.rename(columns={0: \"correlation\"})\n",
    "highly_correlated_cols[\"abs_correlation\"] = highly_correlated_cols[\"correlation\"].abs()\n",
    "highly_correlated_cols = highly_correlated_cols.sort_values(\n",
    "    \"abs_correlation\", ascending=False\n",
    ")\n",
    "highly_correlated_cols = highly_correlated_cols.drop(\"abs_correlation\", axis=1)\n",
    "\n",
    "# Print highly correlated columns with correlation coefficients\n",
    "for idx, row in highly_correlated_cols.iterrows():\n",
    "    col1 = row[\"level_0\"]\n",
    "    col2 = row[\"level_1\"]\n",
    "    corr = row[\"correlation\"]\n",
    "    print(f\"- {col1} & {col2}: {corr}\")"
   ]
  },
  {
   "cell_type": "code",
   "execution_count": null,
   "id": "f495e6bd",
   "metadata": {},
   "outputs": [],
   "source": [
    "features.drop(['GarageCars', \n",
    "                  'GarageYrBlt',\n",
    "                  'TotRmsAbvGrd'], \n",
    "                  axis = 1, inplace = True)"
   ]
  },
  {
   "cell_type": "code",
   "execution_count": null,
   "id": "c42b00ff",
   "metadata": {},
   "outputs": [],
   "source": []
  },
  {
   "cell_type": "code",
   "execution_count": null,
   "id": "45ff41a5",
   "metadata": {},
   "outputs": [],
   "source": [
    "# option 2: remove highly correlated cols (> .9) after get_dummies\n",
    "\n",
    "dummies = pd.get_dummies(features)\n",
    "dummies.shape\n",
    "\n",
    "# can also specify columns to dummify\n",
    "#churn = pd.get_dummies(churn, columns=col_2_dummy, drop_first=True)"
   ]
  },
  {
   "cell_type": "code",
   "execution_count": null,
   "id": "2a56d83a",
   "metadata": {},
   "outputs": [],
   "source": [
    "corr_matrix = dummies.corr()\n",
    "\n",
    "# Extract only highly correlated columns\n",
    "threshold = 0.9\n",
    "highly_correlated_cols = corr_matrix[abs(corr_matrix) > threshold].stack().reset_index()\n",
    "highly_correlated_cols = highly_correlated_cols[\n",
    "    highly_correlated_cols[\"level_0\"] != highly_correlated_cols[\"level_1\"]\n",
    "]\n",
    "highly_correlated_cols = highly_correlated_cols.rename(columns={0: \"correlation\"})\n",
    "highly_correlated_cols[\"abs_correlation\"] = highly_correlated_cols[\"correlation\"].abs()\n",
    "highly_correlated_cols = highly_correlated_cols.sort_values(\n",
    "    \"abs_correlation\", ascending=False\n",
    ")\n",
    "highly_correlated_cols = highly_correlated_cols.drop(\"abs_correlation\", axis=1)\n",
    "\n",
    "# Print highly correlated columns with correlation coefficients\n",
    "for idx, row in highly_correlated_cols.iterrows():\n",
    "    col1 = row[\"level_0\"]\n",
    "    col2 = row[\"level_1\"]\n",
    "    corr = row[\"correlation\"]\n",
    "    print(f\"- {col1} & {col2}: {corr}\")"
   ]
  },
  {
   "cell_type": "code",
   "execution_count": null,
   "id": "18259882",
   "metadata": {},
   "outputs": [],
   "source": [
    "# Columns to remove:  \n",
    "\n",
    "# CentralAir_N\n",
    "# Utilities_NoSewr\n",
    "# Exterior2nd_PreCast\n",
    "# BsmtFinType1_None and BsmtQual_None and BsmtCond_None and BsmtFinType2_None\n",
    "# Street_Grvl\n",
    "# Exterior2nd_PreCast\n",
    "# GarageFinish_None and GarageCond_None and GarageType_None\n",
    "# SaleCondition_Partial\n",
    "# Exterior2nd_VinylSd and Exterior2nd_CmentBd and Exterior2nd_MetalSd\n",
    "# LandSlope_Mod\n",
    "# RoofStyle_Hip\n",
    "# LotShape_IR1\n",
    "# PoolQC_None\n",
    "# ExterQual_TA"
   ]
  },
  {
   "cell_type": "code",
   "execution_count": null,
   "id": "beddfaee",
   "metadata": {},
   "outputs": [],
   "source": [
    "dummies.drop(['CentralAir_N', 'Utilities_NoSewr', \n",
    "              'Exterior2nd_PreCast', 'BsmtFinType1_None', 'BsmtQual_None',\n",
    "              'BsmtCond_None', 'BsmtFinType2_None', 'Street_Grvl', 'Exterior2nd_PreCast',\n",
    "              'GarageFinish_None', 'GarageCond_None', 'GarageType_None', \n",
    "              'SaleCondition_Partial', 'Exterior2nd_VinylSd', 'Exterior2nd_CmentBd', 'Exterior2nd_MetalSd', \n",
    "              'LandSlope_Mod', 'RoofStyle_Hip', 'LotShape_IR1', \n",
    "              'PoolQC_None', 'ExterQual_TA'], axis = 1, inplace = True)"
   ]
  },
  {
   "cell_type": "code",
   "execution_count": null,
   "id": "b63e2284",
   "metadata": {},
   "outputs": [],
   "source": [
    "corr_matrix = dummies.corr()\n",
    "\n",
    "# Extract only highly correlated columns\n",
    "threshold = 0.9\n",
    "highly_correlated_cols = corr_matrix[abs(corr_matrix) > threshold].stack().reset_index()\n",
    "highly_correlated_cols = highly_correlated_cols[\n",
    "    highly_correlated_cols[\"level_0\"] != highly_correlated_cols[\"level_1\"]\n",
    "]\n",
    "highly_correlated_cols = highly_correlated_cols.rename(columns={0: \"correlation\"})\n",
    "highly_correlated_cols[\"abs_correlation\"] = highly_correlated_cols[\"correlation\"].abs()\n",
    "highly_correlated_cols = highly_correlated_cols.sort_values(\n",
    "    \"abs_correlation\", ascending=False\n",
    ")\n",
    "highly_correlated_cols = highly_correlated_cols.drop(\"abs_correlation\", axis=1)\n",
    "\n",
    "# Print highly correlated columns with correlation coefficients\n",
    "for idx, row in highly_correlated_cols.iterrows():\n",
    "    col1 = row[\"level_0\"]\n",
    "    col2 = row[\"level_1\"]\n",
    "    corr = row[\"correlation\"]\n",
    "    print(f\"- {col1} & {col2}: {corr}\")\n",
    "    \n",
    "# returns nothing"
   ]
  },
  {
   "cell_type": "code",
   "execution_count": null,
   "id": "01a5a034",
   "metadata": {},
   "outputs": [],
   "source": []
  },
  {
   "cell_type": "code",
   "execution_count": null,
   "id": "e5127d56",
   "metadata": {},
   "outputs": [],
   "source": [
    "# option 3: use Label Encoder, then vif\n",
    "\n",
    "# values are so high, this is not useful\n",
    "\n",
    "from sklearn.preprocessing import LabelEncoder\n",
    "cat_features_encoded = cat_features.apply(LabelEncoder().fit_transform)\n",
    "cat_features_encoded.head()"
   ]
  },
  {
   "cell_type": "code",
   "execution_count": null,
   "id": "f2174ecb",
   "metadata": {},
   "outputs": [],
   "source": [
    "features_encoded = pd.concat([num_features, cat_features_encoded], axis = 1)"
   ]
  },
  {
   "cell_type": "code",
   "execution_count": null,
   "id": "bb71a109",
   "metadata": {},
   "outputs": [],
   "source": [
    "from statsmodels.stats.outliers_influence import variance_inflation_factor\n",
    "  \n",
    "vif_data = pd.DataFrame()\n",
    "vif_data[\"feature\"] = features_encoded.columns\n",
    "vif_data[\"VIF\"] = [variance_inflation_factor(features_encoded.values, i)\n",
    "                          for i in range(len(features_encoded.columns))]\n",
    "vif_data.sort_values(by = 'VIF', ascending = False)"
   ]
  },
  {
   "cell_type": "code",
   "execution_count": null,
   "id": "f17d0ca7",
   "metadata": {},
   "outputs": [],
   "source": []
  },
  {
   "cell_type": "code",
   "execution_count": null,
   "id": "263e26bd",
   "metadata": {},
   "outputs": [],
   "source": [
    "# option 4: use f regression selection\n",
    "\n",
    "# with p-value < 0.5, reject the null hypothesis that there is no relationship"
   ]
  },
  {
   "cell_type": "code",
   "execution_count": null,
   "id": "b133f526",
   "metadata": {},
   "outputs": [],
   "source": [
    "from sklearn.feature_selection import f_regression\n",
    "\n",
    "res = f_regression(features_encoded[:], housing['SalePrice'])\n",
    "corr_tab = pd.DataFrame({\n",
    "    'feature': features_encoded.columns,\n",
    "    'f_regression': res[0],\n",
    "    'p-value': res[1]\n",
    "})\n",
    "\n",
    "corr_tab.sort_values(by = 'p-value', ascending=True)"
   ]
  },
  {
   "cell_type": "code",
   "execution_count": null,
   "id": "037a6451",
   "metadata": {},
   "outputs": [],
   "source": [
    "corr_vars = corr_tab[corr_tab['p-value'] <= 0.05]\n",
    "corr_vars.shape # 68 vars (11 removed)\n",
    "features_fregression = corr_vars['feature']\n",
    "features_fregression"
   ]
  },
  {
   "cell_type": "code",
   "execution_count": null,
   "id": "fcb36656",
   "metadata": {},
   "outputs": [],
   "source": []
  }
 ],
 "metadata": {
  "kernelspec": {
   "display_name": "Python 3 (ipykernel)",
   "language": "python",
   "name": "python3"
  },
  "language_info": {
   "codemirror_mode": {
    "name": "ipython",
    "version": 3
   },
   "file_extension": ".py",
   "mimetype": "text/x-python",
   "name": "python",
   "nbconvert_exporter": "python",
   "pygments_lexer": "ipython3",
   "version": "3.10.9"
  }
 },
 "nbformat": 4,
 "nbformat_minor": 5
}
