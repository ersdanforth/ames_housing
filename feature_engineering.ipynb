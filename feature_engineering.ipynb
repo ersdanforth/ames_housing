{
 "cells": [
  {
   "cell_type": "code",
   "execution_count": 2,
   "id": "f6c195f4",
   "metadata": {},
   "outputs": [],
   "source": [
    "import numpy as np\n",
    "import pandas as pd\n",
    "\n",
    "import seaborn as sns\n",
    "import matplotlib.pyplot as plt\n",
    "import statsmodels.api as sm\n",
    "\n",
    "pd.set_option('display.max_columns', 200)\n",
    "pd.set_option('display.max_rows', 200)"
   ]
  },
  {
   "cell_type": "code",
   "execution_count": 19,
   "id": "4c3bb957",
   "metadata": {},
   "outputs": [
    {
     "data": {
      "text/plain": [
       "(2464, 80)"
      ]
     },
     "execution_count": 19,
     "metadata": {},
     "output_type": "execute_result"
    }
   ],
   "source": [
    "housing = pd.read_csv('data/houseprice_clean.csv')\n",
    "housing.shape\n",
    "\n",
    "housing_trimmed = pd.read_csv('data/houseprice_trimmed.csv')\n",
    "housing_trimmed.shape"
   ]
  },
  {
   "cell_type": "code",
   "execution_count": 57,
   "id": "21dd461d",
   "metadata": {},
   "outputs": [
    {
     "data": {
      "text/html": [
       "<div>\n",
       "<style scoped>\n",
       "    .dataframe tbody tr th:only-of-type {\n",
       "        vertical-align: middle;\n",
       "    }\n",
       "\n",
       "    .dataframe tbody tr th {\n",
       "        vertical-align: top;\n",
       "    }\n",
       "\n",
       "    .dataframe thead th {\n",
       "        text-align: right;\n",
       "    }\n",
       "</style>\n",
       "<table border=\"1\" class=\"dataframe\">\n",
       "  <thead>\n",
       "    <tr style=\"text-align: right;\">\n",
       "      <th></th>\n",
       "      <th>GrLivArea</th>\n",
       "      <th>MSSubClass</th>\n",
       "      <th>LotFrontage</th>\n",
       "      <th>LotArea</th>\n",
       "      <th>OverallQual</th>\n",
       "      <th>OverallCond</th>\n",
       "      <th>YearBuilt</th>\n",
       "      <th>YearRemodAdd</th>\n",
       "      <th>MasVnrArea</th>\n",
       "      <th>BsmtFinSF1</th>\n",
       "      <th>BsmtFinSF2</th>\n",
       "      <th>BsmtUnfSF</th>\n",
       "      <th>TotalBsmtSF</th>\n",
       "      <th>1stFlrSF</th>\n",
       "      <th>2ndFlrSF</th>\n",
       "      <th>LowQualFinSF</th>\n",
       "      <th>BsmtFullBath</th>\n",
       "      <th>BsmtHalfBath</th>\n",
       "      <th>FullBath</th>\n",
       "      <th>HalfBath</th>\n",
       "      <th>BedroomAbvGr</th>\n",
       "      <th>KitchenAbvGr</th>\n",
       "      <th>TotRmsAbvGrd</th>\n",
       "      <th>Fireplaces</th>\n",
       "      <th>GarageYrBlt</th>\n",
       "      <th>GarageCars</th>\n",
       "      <th>GarageArea</th>\n",
       "      <th>WoodDeckSF</th>\n",
       "      <th>OpenPorchSF</th>\n",
       "      <th>EnclosedPorch</th>\n",
       "      <th>3SsnPorch</th>\n",
       "      <th>ScreenPorch</th>\n",
       "      <th>PoolArea</th>\n",
       "      <th>MiscVal</th>\n",
       "      <th>MoSold</th>\n",
       "      <th>YrSold</th>\n",
       "      <th>MSZoning</th>\n",
       "      <th>Street</th>\n",
       "      <th>Alley</th>\n",
       "      <th>LotShape</th>\n",
       "      <th>LandContour</th>\n",
       "      <th>Utilities</th>\n",
       "      <th>LotConfig</th>\n",
       "      <th>LandSlope</th>\n",
       "      <th>Neighborhood</th>\n",
       "      <th>Condition1</th>\n",
       "      <th>Condition2</th>\n",
       "      <th>BldgType</th>\n",
       "      <th>HouseStyle</th>\n",
       "      <th>RoofStyle</th>\n",
       "      <th>RoofMatl</th>\n",
       "      <th>Exterior1st</th>\n",
       "      <th>Exterior2nd</th>\n",
       "      <th>MasVnrType</th>\n",
       "      <th>ExterQual</th>\n",
       "      <th>ExterCond</th>\n",
       "      <th>Foundation</th>\n",
       "      <th>BsmtQual</th>\n",
       "      <th>BsmtCond</th>\n",
       "      <th>BsmtExposure</th>\n",
       "      <th>BsmtFinType1</th>\n",
       "      <th>BsmtFinType2</th>\n",
       "      <th>Heating</th>\n",
       "      <th>HeatingQC</th>\n",
       "      <th>CentralAir</th>\n",
       "      <th>Electrical</th>\n",
       "      <th>KitchenQual</th>\n",
       "      <th>Functional</th>\n",
       "      <th>FireplaceQu</th>\n",
       "      <th>GarageType</th>\n",
       "      <th>GarageFinish</th>\n",
       "      <th>GarageQual</th>\n",
       "      <th>GarageCond</th>\n",
       "      <th>PavedDrive</th>\n",
       "      <th>PoolQC</th>\n",
       "      <th>Fence</th>\n",
       "      <th>MiscFeature</th>\n",
       "      <th>SaleType</th>\n",
       "      <th>SaleCondition</th>\n",
       "      <th>SalePrice</th>\n",
       "    </tr>\n",
       "  </thead>\n",
       "  <tbody>\n",
       "    <tr>\n",
       "      <th>0</th>\n",
       "      <td>856</td>\n",
       "      <td>30</td>\n",
       "      <td>58.800593</td>\n",
       "      <td>7890</td>\n",
       "      <td>6</td>\n",
       "      <td>6</td>\n",
       "      <td>1939</td>\n",
       "      <td>1950</td>\n",
       "      <td>0.0</td>\n",
       "      <td>238.0</td>\n",
       "      <td>0.0</td>\n",
       "      <td>618.0</td>\n",
       "      <td>856.0</td>\n",
       "      <td>856</td>\n",
       "      <td>0</td>\n",
       "      <td>0</td>\n",
       "      <td>1.0</td>\n",
       "      <td>0.0</td>\n",
       "      <td>1</td>\n",
       "      <td>0</td>\n",
       "      <td>2</td>\n",
       "      <td>1</td>\n",
       "      <td>4</td>\n",
       "      <td>1</td>\n",
       "      <td>1939.0</td>\n",
       "      <td>2.0</td>\n",
       "      <td>399.0</td>\n",
       "      <td>0</td>\n",
       "      <td>0</td>\n",
       "      <td>0</td>\n",
       "      <td>0</td>\n",
       "      <td>166</td>\n",
       "      <td>0</td>\n",
       "      <td>0</td>\n",
       "      <td>3</td>\n",
       "      <td>2010</td>\n",
       "      <td>RL</td>\n",
       "      <td>Pave</td>\n",
       "      <td>None</td>\n",
       "      <td>Reg</td>\n",
       "      <td>Lvl</td>\n",
       "      <td>AllPub</td>\n",
       "      <td>Corner</td>\n",
       "      <td>Gtl</td>\n",
       "      <td>SWISU</td>\n",
       "      <td>Norm</td>\n",
       "      <td>Norm</td>\n",
       "      <td>1Fam</td>\n",
       "      <td>1Story</td>\n",
       "      <td>Gable</td>\n",
       "      <td>CompShg</td>\n",
       "      <td>Wd Sdng</td>\n",
       "      <td>Wd Sdng</td>\n",
       "      <td>None</td>\n",
       "      <td>TA</td>\n",
       "      <td>TA</td>\n",
       "      <td>CBlock</td>\n",
       "      <td>TA</td>\n",
       "      <td>TA</td>\n",
       "      <td>No</td>\n",
       "      <td>Rec</td>\n",
       "      <td>Unf</td>\n",
       "      <td>GasA</td>\n",
       "      <td>TA</td>\n",
       "      <td>Y</td>\n",
       "      <td>SBrkr</td>\n",
       "      <td>TA</td>\n",
       "      <td>Typ</td>\n",
       "      <td>Gd</td>\n",
       "      <td>Detchd</td>\n",
       "      <td>Unf</td>\n",
       "      <td>TA</td>\n",
       "      <td>TA</td>\n",
       "      <td>Y</td>\n",
       "      <td>None</td>\n",
       "      <td>None</td>\n",
       "      <td>None</td>\n",
       "      <td>WD</td>\n",
       "      <td>Normal</td>\n",
       "      <td>126000</td>\n",
       "    </tr>\n",
       "    <tr>\n",
       "      <th>1</th>\n",
       "      <td>1049</td>\n",
       "      <td>120</td>\n",
       "      <td>42.000000</td>\n",
       "      <td>4235</td>\n",
       "      <td>5</td>\n",
       "      <td>5</td>\n",
       "      <td>1984</td>\n",
       "      <td>1984</td>\n",
       "      <td>149.0</td>\n",
       "      <td>552.0</td>\n",
       "      <td>393.0</td>\n",
       "      <td>104.0</td>\n",
       "      <td>1049.0</td>\n",
       "      <td>1049</td>\n",
       "      <td>0</td>\n",
       "      <td>0</td>\n",
       "      <td>1.0</td>\n",
       "      <td>0.0</td>\n",
       "      <td>2</td>\n",
       "      <td>0</td>\n",
       "      <td>2</td>\n",
       "      <td>1</td>\n",
       "      <td>5</td>\n",
       "      <td>0</td>\n",
       "      <td>1984.0</td>\n",
       "      <td>1.0</td>\n",
       "      <td>266.0</td>\n",
       "      <td>0</td>\n",
       "      <td>105</td>\n",
       "      <td>0</td>\n",
       "      <td>0</td>\n",
       "      <td>0</td>\n",
       "      <td>0</td>\n",
       "      <td>0</td>\n",
       "      <td>2</td>\n",
       "      <td>2009</td>\n",
       "      <td>RL</td>\n",
       "      <td>Pave</td>\n",
       "      <td>None</td>\n",
       "      <td>Reg</td>\n",
       "      <td>Lvl</td>\n",
       "      <td>AllPub</td>\n",
       "      <td>Inside</td>\n",
       "      <td>Gtl</td>\n",
       "      <td>Edwards</td>\n",
       "      <td>Norm</td>\n",
       "      <td>Norm</td>\n",
       "      <td>TwnhsE</td>\n",
       "      <td>1Story</td>\n",
       "      <td>Gable</td>\n",
       "      <td>CompShg</td>\n",
       "      <td>HdBoard</td>\n",
       "      <td>HdBoard</td>\n",
       "      <td>BrkFace</td>\n",
       "      <td>Gd</td>\n",
       "      <td>TA</td>\n",
       "      <td>CBlock</td>\n",
       "      <td>Gd</td>\n",
       "      <td>TA</td>\n",
       "      <td>Mn</td>\n",
       "      <td>GLQ</td>\n",
       "      <td>ALQ</td>\n",
       "      <td>GasA</td>\n",
       "      <td>TA</td>\n",
       "      <td>Y</td>\n",
       "      <td>SBrkr</td>\n",
       "      <td>Gd</td>\n",
       "      <td>Typ</td>\n",
       "      <td>None</td>\n",
       "      <td>Attchd</td>\n",
       "      <td>Fin</td>\n",
       "      <td>TA</td>\n",
       "      <td>TA</td>\n",
       "      <td>Y</td>\n",
       "      <td>None</td>\n",
       "      <td>None</td>\n",
       "      <td>None</td>\n",
       "      <td>WD</td>\n",
       "      <td>Normal</td>\n",
       "      <td>139500</td>\n",
       "    </tr>\n",
       "    <tr>\n",
       "      <th>2</th>\n",
       "      <td>1001</td>\n",
       "      <td>30</td>\n",
       "      <td>60.000000</td>\n",
       "      <td>6060</td>\n",
       "      <td>5</td>\n",
       "      <td>9</td>\n",
       "      <td>1930</td>\n",
       "      <td>2007</td>\n",
       "      <td>0.0</td>\n",
       "      <td>737.0</td>\n",
       "      <td>0.0</td>\n",
       "      <td>100.0</td>\n",
       "      <td>837.0</td>\n",
       "      <td>1001</td>\n",
       "      <td>0</td>\n",
       "      <td>0</td>\n",
       "      <td>0.0</td>\n",
       "      <td>0.0</td>\n",
       "      <td>1</td>\n",
       "      <td>0</td>\n",
       "      <td>2</td>\n",
       "      <td>1</td>\n",
       "      <td>5</td>\n",
       "      <td>0</td>\n",
       "      <td>1930.0</td>\n",
       "      <td>1.0</td>\n",
       "      <td>216.0</td>\n",
       "      <td>154</td>\n",
       "      <td>0</td>\n",
       "      <td>42</td>\n",
       "      <td>86</td>\n",
       "      <td>0</td>\n",
       "      <td>0</td>\n",
       "      <td>0</td>\n",
       "      <td>11</td>\n",
       "      <td>2007</td>\n",
       "      <td>C (all)</td>\n",
       "      <td>Pave</td>\n",
       "      <td>None</td>\n",
       "      <td>Reg</td>\n",
       "      <td>Lvl</td>\n",
       "      <td>AllPub</td>\n",
       "      <td>Inside</td>\n",
       "      <td>Gtl</td>\n",
       "      <td>IDOTRR</td>\n",
       "      <td>Norm</td>\n",
       "      <td>Norm</td>\n",
       "      <td>1Fam</td>\n",
       "      <td>1Story</td>\n",
       "      <td>Hip</td>\n",
       "      <td>CompShg</td>\n",
       "      <td>MetalSd</td>\n",
       "      <td>MetalSd</td>\n",
       "      <td>None</td>\n",
       "      <td>Gd</td>\n",
       "      <td>TA</td>\n",
       "      <td>BrkTil</td>\n",
       "      <td>TA</td>\n",
       "      <td>TA</td>\n",
       "      <td>No</td>\n",
       "      <td>ALQ</td>\n",
       "      <td>Unf</td>\n",
       "      <td>GasA</td>\n",
       "      <td>Ex</td>\n",
       "      <td>Y</td>\n",
       "      <td>SBrkr</td>\n",
       "      <td>Gd</td>\n",
       "      <td>Typ</td>\n",
       "      <td>None</td>\n",
       "      <td>Detchd</td>\n",
       "      <td>Unf</td>\n",
       "      <td>TA</td>\n",
       "      <td>Po</td>\n",
       "      <td>N</td>\n",
       "      <td>None</td>\n",
       "      <td>None</td>\n",
       "      <td>None</td>\n",
       "      <td>WD</td>\n",
       "      <td>Normal</td>\n",
       "      <td>124900</td>\n",
       "    </tr>\n",
       "    <tr>\n",
       "      <th>3</th>\n",
       "      <td>1039</td>\n",
       "      <td>70</td>\n",
       "      <td>80.000000</td>\n",
       "      <td>8146</td>\n",
       "      <td>4</td>\n",
       "      <td>8</td>\n",
       "      <td>1900</td>\n",
       "      <td>2003</td>\n",
       "      <td>0.0</td>\n",
       "      <td>0.0</td>\n",
       "      <td>0.0</td>\n",
       "      <td>405.0</td>\n",
       "      <td>405.0</td>\n",
       "      <td>717</td>\n",
       "      <td>322</td>\n",
       "      <td>0</td>\n",
       "      <td>0.0</td>\n",
       "      <td>0.0</td>\n",
       "      <td>1</td>\n",
       "      <td>0</td>\n",
       "      <td>2</td>\n",
       "      <td>1</td>\n",
       "      <td>6</td>\n",
       "      <td>0</td>\n",
       "      <td>1940.0</td>\n",
       "      <td>1.0</td>\n",
       "      <td>281.0</td>\n",
       "      <td>0</td>\n",
       "      <td>0</td>\n",
       "      <td>168</td>\n",
       "      <td>0</td>\n",
       "      <td>111</td>\n",
       "      <td>0</td>\n",
       "      <td>0</td>\n",
       "      <td>5</td>\n",
       "      <td>2009</td>\n",
       "      <td>RL</td>\n",
       "      <td>Pave</td>\n",
       "      <td>None</td>\n",
       "      <td>Reg</td>\n",
       "      <td>Lvl</td>\n",
       "      <td>AllPub</td>\n",
       "      <td>Corner</td>\n",
       "      <td>Gtl</td>\n",
       "      <td>OldTown</td>\n",
       "      <td>Norm</td>\n",
       "      <td>Norm</td>\n",
       "      <td>1Fam</td>\n",
       "      <td>2Story</td>\n",
       "      <td>Gable</td>\n",
       "      <td>CompShg</td>\n",
       "      <td>MetalSd</td>\n",
       "      <td>MetalSd</td>\n",
       "      <td>None</td>\n",
       "      <td>Gd</td>\n",
       "      <td>Gd</td>\n",
       "      <td>BrkTil</td>\n",
       "      <td>Fa</td>\n",
       "      <td>TA</td>\n",
       "      <td>No</td>\n",
       "      <td>Unf</td>\n",
       "      <td>Unf</td>\n",
       "      <td>GasA</td>\n",
       "      <td>Gd</td>\n",
       "      <td>Y</td>\n",
       "      <td>SBrkr</td>\n",
       "      <td>TA</td>\n",
       "      <td>Typ</td>\n",
       "      <td>None</td>\n",
       "      <td>Detchd</td>\n",
       "      <td>Unf</td>\n",
       "      <td>TA</td>\n",
       "      <td>TA</td>\n",
       "      <td>N</td>\n",
       "      <td>None</td>\n",
       "      <td>None</td>\n",
       "      <td>None</td>\n",
       "      <td>WD</td>\n",
       "      <td>Normal</td>\n",
       "      <td>114000</td>\n",
       "    </tr>\n",
       "    <tr>\n",
       "      <th>4</th>\n",
       "      <td>1665</td>\n",
       "      <td>60</td>\n",
       "      <td>70.000000</td>\n",
       "      <td>8400</td>\n",
       "      <td>8</td>\n",
       "      <td>6</td>\n",
       "      <td>2001</td>\n",
       "      <td>2001</td>\n",
       "      <td>0.0</td>\n",
       "      <td>643.0</td>\n",
       "      <td>0.0</td>\n",
       "      <td>167.0</td>\n",
       "      <td>810.0</td>\n",
       "      <td>810</td>\n",
       "      <td>855</td>\n",
       "      <td>0</td>\n",
       "      <td>1.0</td>\n",
       "      <td>0.0</td>\n",
       "      <td>2</td>\n",
       "      <td>1</td>\n",
       "      <td>3</td>\n",
       "      <td>1</td>\n",
       "      <td>6</td>\n",
       "      <td>0</td>\n",
       "      <td>2001.0</td>\n",
       "      <td>2.0</td>\n",
       "      <td>528.0</td>\n",
       "      <td>0</td>\n",
       "      <td>45</td>\n",
       "      <td>0</td>\n",
       "      <td>0</td>\n",
       "      <td>0</td>\n",
       "      <td>0</td>\n",
       "      <td>0</td>\n",
       "      <td>11</td>\n",
       "      <td>2009</td>\n",
       "      <td>RL</td>\n",
       "      <td>Pave</td>\n",
       "      <td>None</td>\n",
       "      <td>Reg</td>\n",
       "      <td>Lvl</td>\n",
       "      <td>AllPub</td>\n",
       "      <td>Inside</td>\n",
       "      <td>Gtl</td>\n",
       "      <td>NWAmes</td>\n",
       "      <td>Norm</td>\n",
       "      <td>Norm</td>\n",
       "      <td>1Fam</td>\n",
       "      <td>2Story</td>\n",
       "      <td>Gable</td>\n",
       "      <td>CompShg</td>\n",
       "      <td>VinylSd</td>\n",
       "      <td>VinylSd</td>\n",
       "      <td>None</td>\n",
       "      <td>Gd</td>\n",
       "      <td>TA</td>\n",
       "      <td>PConc</td>\n",
       "      <td>Gd</td>\n",
       "      <td>TA</td>\n",
       "      <td>No</td>\n",
       "      <td>GLQ</td>\n",
       "      <td>Unf</td>\n",
       "      <td>GasA</td>\n",
       "      <td>Ex</td>\n",
       "      <td>Y</td>\n",
       "      <td>SBrkr</td>\n",
       "      <td>Gd</td>\n",
       "      <td>Typ</td>\n",
       "      <td>None</td>\n",
       "      <td>Attchd</td>\n",
       "      <td>Fin</td>\n",
       "      <td>TA</td>\n",
       "      <td>TA</td>\n",
       "      <td>Y</td>\n",
       "      <td>None</td>\n",
       "      <td>None</td>\n",
       "      <td>None</td>\n",
       "      <td>WD</td>\n",
       "      <td>Normal</td>\n",
       "      <td>227000</td>\n",
       "    </tr>\n",
       "  </tbody>\n",
       "</table>\n",
       "</div>"
      ],
      "text/plain": [
       "   GrLivArea  MSSubClass  LotFrontage  LotArea  OverallQual  OverallCond  \\\n",
       "0        856          30    58.800593     7890            6            6   \n",
       "1       1049         120    42.000000     4235            5            5   \n",
       "2       1001          30    60.000000     6060            5            9   \n",
       "3       1039          70    80.000000     8146            4            8   \n",
       "4       1665          60    70.000000     8400            8            6   \n",
       "\n",
       "   YearBuilt  YearRemodAdd  MasVnrArea  BsmtFinSF1  BsmtFinSF2  BsmtUnfSF  \\\n",
       "0       1939          1950         0.0       238.0         0.0      618.0   \n",
       "1       1984          1984       149.0       552.0       393.0      104.0   \n",
       "2       1930          2007         0.0       737.0         0.0      100.0   \n",
       "3       1900          2003         0.0         0.0         0.0      405.0   \n",
       "4       2001          2001         0.0       643.0         0.0      167.0   \n",
       "\n",
       "   TotalBsmtSF  1stFlrSF  2ndFlrSF  LowQualFinSF  BsmtFullBath  BsmtHalfBath  \\\n",
       "0        856.0       856         0             0           1.0           0.0   \n",
       "1       1049.0      1049         0             0           1.0           0.0   \n",
       "2        837.0      1001         0             0           0.0           0.0   \n",
       "3        405.0       717       322             0           0.0           0.0   \n",
       "4        810.0       810       855             0           1.0           0.0   \n",
       "\n",
       "   FullBath  HalfBath  BedroomAbvGr  KitchenAbvGr  TotRmsAbvGrd  Fireplaces  \\\n",
       "0         1         0             2             1             4           1   \n",
       "1         2         0             2             1             5           0   \n",
       "2         1         0             2             1             5           0   \n",
       "3         1         0             2             1             6           0   \n",
       "4         2         1             3             1             6           0   \n",
       "\n",
       "   GarageYrBlt  GarageCars  GarageArea  WoodDeckSF  OpenPorchSF  \\\n",
       "0       1939.0         2.0       399.0           0            0   \n",
       "1       1984.0         1.0       266.0           0          105   \n",
       "2       1930.0         1.0       216.0         154            0   \n",
       "3       1940.0         1.0       281.0           0            0   \n",
       "4       2001.0         2.0       528.0           0           45   \n",
       "\n",
       "   EnclosedPorch  3SsnPorch  ScreenPorch  PoolArea  MiscVal  MoSold  YrSold  \\\n",
       "0              0          0          166         0        0       3    2010   \n",
       "1              0          0            0         0        0       2    2009   \n",
       "2             42         86            0         0        0      11    2007   \n",
       "3            168          0          111         0        0       5    2009   \n",
       "4              0          0            0         0        0      11    2009   \n",
       "\n",
       "  MSZoning Street Alley LotShape LandContour Utilities LotConfig LandSlope  \\\n",
       "0       RL   Pave  None      Reg         Lvl    AllPub    Corner       Gtl   \n",
       "1       RL   Pave  None      Reg         Lvl    AllPub    Inside       Gtl   \n",
       "2  C (all)   Pave  None      Reg         Lvl    AllPub    Inside       Gtl   \n",
       "3       RL   Pave  None      Reg         Lvl    AllPub    Corner       Gtl   \n",
       "4       RL   Pave  None      Reg         Lvl    AllPub    Inside       Gtl   \n",
       "\n",
       "  Neighborhood Condition1 Condition2 BldgType HouseStyle RoofStyle RoofMatl  \\\n",
       "0        SWISU       Norm       Norm     1Fam     1Story     Gable  CompShg   \n",
       "1      Edwards       Norm       Norm   TwnhsE     1Story     Gable  CompShg   \n",
       "2       IDOTRR       Norm       Norm     1Fam     1Story       Hip  CompShg   \n",
       "3      OldTown       Norm       Norm     1Fam     2Story     Gable  CompShg   \n",
       "4       NWAmes       Norm       Norm     1Fam     2Story     Gable  CompShg   \n",
       "\n",
       "  Exterior1st Exterior2nd MasVnrType ExterQual ExterCond Foundation BsmtQual  \\\n",
       "0     Wd Sdng     Wd Sdng       None        TA        TA     CBlock       TA   \n",
       "1     HdBoard     HdBoard    BrkFace        Gd        TA     CBlock       Gd   \n",
       "2     MetalSd     MetalSd       None        Gd        TA     BrkTil       TA   \n",
       "3     MetalSd     MetalSd       None        Gd        Gd     BrkTil       Fa   \n",
       "4     VinylSd     VinylSd       None        Gd        TA      PConc       Gd   \n",
       "\n",
       "  BsmtCond BsmtExposure BsmtFinType1 BsmtFinType2 Heating HeatingQC  \\\n",
       "0       TA           No          Rec          Unf    GasA        TA   \n",
       "1       TA           Mn          GLQ          ALQ    GasA        TA   \n",
       "2       TA           No          ALQ          Unf    GasA        Ex   \n",
       "3       TA           No          Unf          Unf    GasA        Gd   \n",
       "4       TA           No          GLQ          Unf    GasA        Ex   \n",
       "\n",
       "  CentralAir Electrical KitchenQual Functional FireplaceQu GarageType  \\\n",
       "0          Y      SBrkr          TA        Typ          Gd     Detchd   \n",
       "1          Y      SBrkr          Gd        Typ        None     Attchd   \n",
       "2          Y      SBrkr          Gd        Typ        None     Detchd   \n",
       "3          Y      SBrkr          TA        Typ        None     Detchd   \n",
       "4          Y      SBrkr          Gd        Typ        None     Attchd   \n",
       "\n",
       "  GarageFinish GarageQual GarageCond PavedDrive PoolQC Fence MiscFeature  \\\n",
       "0          Unf         TA         TA          Y   None  None        None   \n",
       "1          Fin         TA         TA          Y   None  None        None   \n",
       "2          Unf         TA         Po          N   None  None        None   \n",
       "3          Unf         TA         TA          N   None  None        None   \n",
       "4          Fin         TA         TA          Y   None  None        None   \n",
       "\n",
       "  SaleType SaleCondition  SalePrice  \n",
       "0      WD         Normal     126000  \n",
       "1      WD         Normal     139500  \n",
       "2      WD         Normal     124900  \n",
       "3      WD         Normal     114000  \n",
       "4      WD         Normal     227000  "
      ]
     },
     "execution_count": 57,
     "metadata": {},
     "output_type": "execute_result"
    }
   ],
   "source": [
    "housing.head()"
   ]
  },
  {
   "cell_type": "code",
   "execution_count": 4,
   "id": "c18ddd02",
   "metadata": {},
   "outputs": [],
   "source": [
    "price = housing['SalePrice']\n",
    "features = housing.drop([\"SalePrice\"], axis=1)"
   ]
  },
  {
   "cell_type": "code",
   "execution_count": 5,
   "id": "dafd3f3c",
   "metadata": {},
   "outputs": [
    {
     "data": {
      "text/plain": [
       "(2580, 79)"
      ]
     },
     "execution_count": 5,
     "metadata": {},
     "output_type": "execute_result"
    }
   ],
   "source": [
    "features.shape"
   ]
  },
  {
   "cell_type": "code",
   "execution_count": null,
   "id": "b2740f52",
   "metadata": {},
   "outputs": [],
   "source": []
  },
  {
   "cell_type": "code",
   "execution_count": null,
   "id": "e9d098d6",
   "metadata": {},
   "outputs": [],
   "source": [
    "# SKIP THIS PART - KEEP ALL FEATURES"
   ]
  },
  {
   "cell_type": "code",
   "execution_count": 4,
   "id": "9ee0ad25",
   "metadata": {},
   "outputs": [
    {
     "name": "stdout",
     "output_type": "stream",
     "text": [
      "Column LowQualFinSF has highest frequency of 98.72%\n",
      "Column KitchenAbvGr has highest frequency of 95.85%\n",
      "Column 3SsnPorch has highest frequency of 98.84%\n",
      "Column PoolArea has highest frequency of 99.65%\n",
      "Column MiscVal has highest frequency of 96.32%\n",
      "Column Street has highest frequency of 99.61%\n",
      "Column Utilities has highest frequency of 99.92%\n",
      "Column LandSlope has highest frequency of 95.27%\n",
      "Column Condition2 has highest frequency of 99.03%\n",
      "Column RoofMatl has highest frequency of 98.60%\n",
      "Column Heating has highest frequency of 98.45%\n",
      "Column PoolQC has highest frequency of 99.65%\n",
      "Column MiscFeature has highest frequency of 96.24%\n"
     ]
    }
   ],
   "source": [
    "# find variables with low variation (highly imbalanced distributions)\n",
    "for col in features.columns:\n",
    "    value_counts = features[col].value_counts(normalize=True)\n",
    "    highest_freq = value_counts.max()\n",
    "    if highest_freq > 0.95:\n",
    "        print(f\"Column {col} has highest frequency of {highest_freq:.2%}\")"
   ]
  },
  {
   "cell_type": "code",
   "execution_count": 32,
   "id": "f3492e95",
   "metadata": {},
   "outputs": [],
   "source": [
    "high_freq_vars = ['LowQualFinSF', \n",
    "                  'KitchenAbvGr',\n",
    "                  '3SsnPorch',\n",
    "                  'PoolArea',\n",
    "                  'MiscVal',\n",
    "                  'Street',\n",
    "                  'Utilities',\n",
    "                  'LandSlope',\n",
    "                  'Condition2',\n",
    "                  'RoofMatl',\n",
    "                  'Heating',\n",
    "                  'PoolQC',\n",
    "                  'MiscFeature'\n",
    "                ]"
   ]
  },
  {
   "cell_type": "code",
   "execution_count": 6,
   "id": "ad091e14",
   "metadata": {},
   "outputs": [
    {
     "name": "stdout",
     "output_type": "stream",
     "text": [
      "                            OLS Regression Results                            \n",
      "==============================================================================\n",
      "Dep. Variable:              SalePrice   R-squared:                       0.089\n",
      "Model:                            OLS   Adj. R-squared:                  0.076\n",
      "Method:                 Least Squares   F-statistic:                     7.098\n",
      "Date:                Wed, 02 Aug 2023   Prob (F-statistic):           3.92e-32\n",
      "Time:                        09:39:26   Log-Likelihood:                -32502.\n",
      "No. Observations:                2580   AIC:                         6.508e+04\n",
      "Df Residuals:                    2544   BIC:                         6.529e+04\n",
      "Df Model:                          35                                         \n",
      "Covariance Type:            nonrobust                                         \n",
      "=====================================================================================\n",
      "                        coef    std err          t      P>|t|      [0.025      0.975]\n",
      "-------------------------------------------------------------------------------------\n",
      "const              8.521e+04   4.18e+04      2.036      0.042    3161.342    1.67e+05\n",
      "LowQualFinSF        -69.9880     32.262     -2.169      0.030    -133.250      -6.726\n",
      "KitchenAbvGr      -3.657e+04   7242.248     -5.049      0.000   -5.08e+04   -2.24e+04\n",
      "3SsnPorch            96.1147     56.482      1.702      0.089     -14.640     206.869\n",
      "PoolArea           -106.0593    330.838     -0.321      0.749    -754.798     542.679\n",
      "MiscVal               9.2423      5.540      1.668      0.095      -1.622      20.106\n",
      "Street_Grvl         1.27e+04   2.45e+04      0.519      0.604   -3.53e+04    6.07e+04\n",
      "Street_Pave        7.251e+04   2.35e+04      3.079      0.002    2.63e+04    1.19e+05\n",
      "Utilities_AllPub   6.935e+04   3.05e+04      2.273      0.023    9516.112    1.29e+05\n",
      "Utilities_NoSewr   1.586e+04   3.63e+04      0.437      0.662   -5.54e+04    8.71e+04\n",
      "LandSlope_Gtl      1.107e+04   1.61e+04      0.687      0.492   -2.05e+04    4.27e+04\n",
      "LandSlope_Mod      3.489e+04   1.65e+04      2.121      0.034    2634.725    6.72e+04\n",
      "LandSlope_Sev      3.925e+04   2.05e+04      1.917      0.055    -899.630    7.94e+04\n",
      "Condition2_Artery -7.168e+04   4.04e+04     -1.773      0.076   -1.51e+05    7606.434\n",
      "Condition2_Feedr  -7.648e+04   2.55e+04     -3.001      0.003   -1.26e+05   -2.65e+04\n",
      "Condition2_Norm   -3.579e+04   1.79e+04     -1.999      0.046   -7.09e+04    -675.469\n",
      "Condition2_PosA    2.487e+05   4.05e+04      6.146      0.000    1.69e+05    3.28e+05\n",
      "Condition2_PosN    1.143e+05   4.05e+04      2.824      0.005    3.49e+04    1.94e+05\n",
      "Condition2_RRAe    6.517e+04   7.26e+04      0.897      0.370   -7.72e+04    2.08e+05\n",
      "Condition2_RRAn   -4.115e+04   6.56e+04     -0.628      0.530    -1.7e+05    8.74e+04\n",
      "Condition2_RRNn   -1.179e+05   4.79e+04     -2.460      0.014   -2.12e+05   -2.39e+04\n",
      "RoofMatl_CompShg  -2.137e+04   2.03e+04     -1.052      0.293   -6.12e+04    1.85e+04\n",
      "RoofMatl_Membran   1.312e+04   6.61e+04      0.199      0.843   -1.16e+05    1.43e+05\n",
      "RoofMatl_Metal    -6.088e+04   6.64e+04     -0.917      0.359   -1.91e+05    6.92e+04\n",
      "RoofMatl_Roll     -2.664e+04   6.51e+04     -0.409      0.682   -1.54e+05    1.01e+05\n",
      "RoofMatl_Tar&Grv  -2.011e+04   2.48e+04     -0.811      0.418   -6.87e+04    2.85e+04\n",
      "RoofMatl_WdShake   2.865e+04   2.92e+04      0.981      0.327   -2.86e+04    8.59e+04\n",
      "RoofMatl_WdShngl   1.724e+05   3.04e+04      5.682      0.000    1.13e+05    2.32e+05\n",
      "Heating_Floor     -4.029e+04    6.2e+04     -0.649      0.516   -1.62e+05    8.14e+04\n",
      "Heating_GasA       6.605e+04   1.71e+04      3.861      0.000    3.25e+04    9.96e+04\n",
      "Heating_GasW       5.097e+04   2.09e+04      2.439      0.015    9996.475    9.19e+04\n",
      "Heating_Grav      -1.808e+04   2.83e+04     -0.638      0.524   -7.37e+04    3.75e+04\n",
      "Heating_OthW       2.014e+04   4.56e+04      0.442      0.659   -6.93e+04     1.1e+05\n",
      "Heating_Wall       6425.4178   3.21e+04      0.200      0.841   -5.65e+04    6.93e+04\n",
      "PoolQC_Ex          2.081e+05   7.68e+04      2.710      0.007    5.75e+04    3.59e+05\n",
      "PoolQC_Fa         -1.501e+04   1.09e+05     -0.138      0.891   -2.29e+05    1.99e+05\n",
      "PoolQC_Gd          2.373e+04   1.14e+05      0.208      0.835      -2e+05    2.47e+05\n",
      "PoolQC_None        -8.59e+04   1.25e+05     -0.687      0.492   -3.31e+05    1.59e+05\n",
      "PoolQC_TA         -4.569e+04   4.83e+04     -0.945      0.345    -1.4e+05    4.91e+04\n",
      "MiscFeature_Gar2  -7.568e+04   5.21e+04     -1.454      0.146   -1.78e+05    2.64e+04\n",
      "MiscFeature_None   5.426e+04   3.19e+04      1.700      0.089   -8339.342    1.17e+05\n",
      "MiscFeature_Othr  -1.354e+04   4.36e+04     -0.311      0.756    -9.9e+04    7.19e+04\n",
      "MiscFeature_Shed   2.908e+04   3.06e+04      0.950      0.342   -3.09e+04    8.91e+04\n",
      "MiscFeature_TenC   9.109e+04   8.72e+04      1.045      0.296   -7.99e+04    2.62e+05\n",
      "==============================================================================\n",
      "Omnibus:                      816.796   Durbin-Watson:                   1.949\n",
      "Prob(Omnibus):                  0.000   Jarque-Bera (JB):             2921.424\n",
      "Skew:                           1.550   Prob(JB):                         0.00\n",
      "Kurtosis:                       7.191   Cond. No.                     1.80e+16\n",
      "==============================================================================\n",
      "\n",
      "Notes:\n",
      "[1] Standard Errors assume that the covariance matrix of the errors is correctly specified.\n",
      "[2] The smallest eigenvalue is 2.01e-24. This might indicate that there are\n",
      "strong multicollinearity problems or that the design matrix is singular.\n"
     ]
    }
   ],
   "source": [
    "# define the independent and dependent variables\n",
    "X = features[high_freq_vars]\n",
    "y = price\n",
    "\n",
    "# create dummy variables for categorical columns\n",
    "X = pd.get_dummies(X)\n",
    "\n",
    "# add a constant to the independent variables\n",
    "X = sm.add_constant(X)\n",
    "\n",
    "# fit the multiple linear regression model\n",
    "model = sm.OLS(y, X).fit()\n",
    "\n",
    "# print the summary of the model\n",
    "print(model.summary())"
   ]
  },
  {
   "cell_type": "code",
   "execution_count": 33,
   "id": "e6cc6468",
   "metadata": {},
   "outputs": [],
   "source": [
    "# features to drop:\n",
    "# 3SsnPorch, PoolArea, MiscVal, MiscFeature (no significant relationship; p-value > 0.05)\n",
    "\n",
    "features.drop(['3SsnPorch', 'PoolArea', 'MiscVal', 'MiscFeature'], axis=1, inplace = True)"
   ]
  },
  {
   "cell_type": "code",
   "execution_count": 34,
   "id": "6c74540a",
   "metadata": {},
   "outputs": [
    {
     "data": {
      "text/plain": [
       "(2580, 75)"
      ]
     },
     "execution_count": 34,
     "metadata": {},
     "output_type": "execute_result"
    }
   ],
   "source": [
    "features.shape"
   ]
  },
  {
   "cell_type": "code",
   "execution_count": 6,
   "id": "be135012",
   "metadata": {},
   "outputs": [
    {
     "data": {
      "text/plain": [
       "MSZoning          7\n",
       "Street            2\n",
       "Alley             3\n",
       "LotShape          4\n",
       "LandContour       4\n",
       "Utilities         2\n",
       "LotConfig         5\n",
       "LandSlope         3\n",
       "Neighborhood     28\n",
       "Condition1        9\n",
       "Condition2        8\n",
       "BldgType          5\n",
       "HouseStyle        8\n",
       "RoofStyle         6\n",
       "RoofMatl          7\n",
       "Exterior1st      15\n",
       "Exterior2nd      16\n",
       "MasVnrType        4\n",
       "ExterQual         4\n",
       "ExterCond         5\n",
       "Foundation        6\n",
       "BsmtQual          6\n",
       "BsmtCond          6\n",
       "BsmtExposure      5\n",
       "BsmtFinType1      7\n",
       "BsmtFinType2      7\n",
       "Heating           6\n",
       "HeatingQC         5\n",
       "CentralAir        2\n",
       "Electrical        5\n",
       "KitchenQual       5\n",
       "Functional        7\n",
       "FireplaceQu       6\n",
       "GarageType        7\n",
       "GarageFinish      4\n",
       "GarageQual        6\n",
       "GarageCond        6\n",
       "PavedDrive        3\n",
       "PoolQC            5\n",
       "Fence             5\n",
       "MiscFeature       5\n",
       "SaleType         10\n",
       "SaleCondition     6\n",
       "dtype: int64"
      ]
     },
     "execution_count": 6,
     "metadata": {},
     "output_type": "execute_result"
    }
   ],
   "source": [
    "# check if there are any categorical features with too many unique values\n",
    "# none are above 20 except neighborhood, so remove none\n",
    "features.select_dtypes(include=['object']).nunique()"
   ]
  },
  {
   "cell_type": "code",
   "execution_count": null,
   "id": "0e1215c6",
   "metadata": {},
   "outputs": [],
   "source": [
    "# create binary variables for remodel, garagecars, pool, porch\n",
    "\n",
    "# add total SF, % of lot area (proxy for yard)"
   ]
  },
  {
   "cell_type": "code",
   "execution_count": 20,
   "id": "045e9373",
   "metadata": {},
   "outputs": [
    {
     "data": {
      "text/plain": [
       "<Axes: >"
      ]
     },
     "execution_count": 20,
     "metadata": {},
     "output_type": "execute_result"
    },
    {
     "data": {
      "image/png": "[encoded data removed]",
      "text/plain": [
       "<Figure size 640x480 with 1 Axes>"
      ]
     },
     "metadata": {},
     "output_type": "display_data"
    }
   ],
   "source": [
    "features['GarageCars'].hist()"
   ]
  },
  {
   "cell_type": "code",
   "execution_count": 35,
   "id": "456219ae",
   "metadata": {},
   "outputs": [
    {
     "data": {
      "text/plain": [
       "large    1739\n",
       "small     841\n",
       "Name: GarageSize, dtype: int64"
      ]
     },
     "execution_count": 35,
     "metadata": {},
     "output_type": "execute_result"
    }
   ],
   "source": [
    "features['GarageSize'] = np.where(features['GarageCars'] < 2, 'small', 'large')\n",
    "features['GarageSize'].value_counts()"
   ]
  },
  {
   "cell_type": "code",
   "execution_count": 36,
   "id": "d331c15e",
   "metadata": {},
   "outputs": [
    {
     "data": {
      "text/plain": [
       "<Axes: >"
      ]
     },
     "execution_count": 36,
     "metadata": {},
     "output_type": "execute_result"
    },
    {
     "data": {
      "image/png": "[encoded data removed]",
      "text/plain": [
       "<Figure size 640x480 with 1 Axes>"
      ]
     },
     "metadata": {},
     "output_type": "display_data"
    }
   ],
   "source": [
    "features['YearBuilt'].hist()\n",
    "features['YearRemodAdd'].hist()"
   ]
  },
  {
   "cell_type": "code",
   "execution_count": 37,
   "id": "eaadf440",
   "metadata": {},
   "outputs": [
    {
     "data": {
      "text/plain": [
       "0    1386\n",
       "1    1194\n",
       "Name: Remodel_binary, dtype: int64"
      ]
     },
     "execution_count": 37,
     "metadata": {},
     "output_type": "execute_result"
    }
   ],
   "source": [
    "features['Remodel_binary'] = np.where(features['YearRemodAdd'] == features['YearBuilt'], 0, 1)\n",
    "features['Remodel_binary'].value_counts()"
   ]
  },
  {
   "cell_type": "code",
   "execution_count": null,
   "id": "b27b6db1",
   "metadata": {},
   "outputs": [],
   "source": [
    "# outdoor space\n",
    "features['WoodDeckSF'].describe()\n",
    "features['OpenPorchSF'].describe()\n",
    "features['EnclosedPorch'].describe()\n",
    "features['3SsnPorch'].describe()\n",
    "features['ScreenPorch'].describe()"
   ]
  },
  {
   "cell_type": "code",
   "execution_count": 11,
   "id": "5cfb4411",
   "metadata": {},
   "outputs": [
    {
     "ename": "ValueError",
     "evalue": "The truth value of a Series is ambiguous. Use a.empty, a.bool(), a.item(), a.any() or a.all().",
     "output_type": "error",
     "traceback": [
      "\u001b[0;31m---------------------------------------------------------------------------\u001b[0m",
      "\u001b[0;31mValueError\u001b[0m                                Traceback (most recent call last)",
      "Cell \u001b[0;32mIn[11], line 1\u001b[0m\n\u001b[0;32m----> 1\u001b[0m features[\u001b[38;5;124m'\u001b[39m\u001b[38;5;124mPorch_bool\u001b[39m\u001b[38;5;124m'\u001b[39m] \u001b[38;5;241m=\u001b[39m np\u001b[38;5;241m.\u001b[39mwhere([features[\u001b[38;5;124m'\u001b[39m\u001b[38;5;124mWoodDeckSF\u001b[39m\u001b[38;5;124m'\u001b[39m] \u001b[38;5;241m>\u001b[39m \u001b[38;5;241m0\u001b[39m \u001b[38;5;129;01mor\u001b[39;00m \n\u001b[1;32m      2\u001b[0m                                    features[\u001b[38;5;124m'\u001b[39m\u001b[38;5;124mOpenPorchSF\u001b[39m\u001b[38;5;124m'\u001b[39m] \u001b[38;5;241m>\u001b[39m \u001b[38;5;241m0\u001b[39m \u001b[38;5;129;01mor\u001b[39;00m\n\u001b[1;32m      3\u001b[0m                                    features[\u001b[38;5;124m'\u001b[39m\u001b[38;5;124mEnclosedPorch\u001b[39m\u001b[38;5;124m'\u001b[39m] \u001b[38;5;241m>\u001b[39m \u001b[38;5;241m0\u001b[39m \u001b[38;5;129;01mor\u001b[39;00m\n\u001b[1;32m      4\u001b[0m                                    features[\u001b[38;5;124m'\u001b[39m\u001b[38;5;124m3SsnPorch\u001b[39m\u001b[38;5;124m'\u001b[39m] \u001b[38;5;241m>\u001b[39m \u001b[38;5;241m0\u001b[39m \u001b[38;5;129;01mor\u001b[39;00m\n\u001b[1;32m      5\u001b[0m                                    features[\u001b[38;5;124m'\u001b[39m\u001b[38;5;124mScreenPorch\u001b[39m\u001b[38;5;124m'\u001b[39m] \u001b[38;5;241m>\u001b[39m \u001b[38;5;241m0\u001b[39m], \u001b[38;5;241m1\u001b[39m, \u001b[38;5;241m0\u001b[39m)\n",
      "File \u001b[0;32m~/anaconda3/lib/python3.10/site-packages/pandas/core/generic.py:1527\u001b[0m, in \u001b[0;36mNDFrame.__nonzero__\u001b[0;34m(self)\u001b[0m\n\u001b[1;32m   1525\u001b[0m \u001b[38;5;129m@final\u001b[39m\n\u001b[1;32m   1526\u001b[0m \u001b[38;5;28;01mdef\u001b[39;00m \u001b[38;5;21m__nonzero__\u001b[39m(\u001b[38;5;28mself\u001b[39m) \u001b[38;5;241m-\u001b[39m\u001b[38;5;241m>\u001b[39m NoReturn:\n\u001b[0;32m-> 1527\u001b[0m     \u001b[38;5;28;01mraise\u001b[39;00m \u001b[38;5;167;01mValueError\u001b[39;00m(\n\u001b[1;32m   1528\u001b[0m         \u001b[38;5;124mf\u001b[39m\u001b[38;5;124m\"\u001b[39m\u001b[38;5;124mThe truth value of a \u001b[39m\u001b[38;5;132;01m{\u001b[39;00m\u001b[38;5;28mtype\u001b[39m(\u001b[38;5;28mself\u001b[39m)\u001b[38;5;241m.\u001b[39m\u001b[38;5;18m__name__\u001b[39m\u001b[38;5;132;01m}\u001b[39;00m\u001b[38;5;124m is ambiguous. \u001b[39m\u001b[38;5;124m\"\u001b[39m\n\u001b[1;32m   1529\u001b[0m         \u001b[38;5;124m\"\u001b[39m\u001b[38;5;124mUse a.empty, a.bool(), a.item(), a.any() or a.all().\u001b[39m\u001b[38;5;124m\"\u001b[39m\n\u001b[1;32m   1530\u001b[0m     )\n",
      "\u001b[0;31mValueError\u001b[0m: The truth value of a Series is ambiguous. Use a.empty, a.bool(), a.item(), a.any() or a.all()."
     ]
    }
   ],
   "source": [
    "features['Porch_bool'] = np.where([features['WoodDeckSF'] > 0 or \n",
    "                                   features['OpenPorchSF'] > 0 or\n",
    "                                   features['EnclosedPorch'] > 0 or\n",
    "                                   features['3SsnPorch'] > 0 or\n",
    "                                   features['ScreenPorch'] > 0], 1, 0)\n",
    "\n",
    "#odd_numbers = [num for num in num_range if num % 2 == 1]\n",
    "#sqr_nums = map(lambda num: num**2, num_range)"
   ]
  },
  {
   "cell_type": "code",
   "execution_count": 7,
   "id": "0b14be3c",
   "metadata": {},
   "outputs": [
    {
     "data": {
      "text/html": [
       "<div>\n",
       "<style scoped>\n",
       "    .dataframe tbody tr th:only-of-type {\n",
       "        vertical-align: middle;\n",
       "    }\n",
       "\n",
       "    .dataframe tbody tr th {\n",
       "        vertical-align: top;\n",
       "    }\n",
       "\n",
       "    .dataframe thead th {\n",
       "        text-align: right;\n",
       "    }\n",
       "</style>\n",
       "<table border=\"1\" class=\"dataframe\">\n",
       "  <thead>\n",
       "    <tr style=\"text-align: right;\">\n",
       "      <th></th>\n",
       "      <th>OpenPorchSF</th>\n",
       "      <th>EnclosedPorch</th>\n",
       "      <th>3SsnPorch</th>\n",
       "      <th>ScreenPorch</th>\n",
       "    </tr>\n",
       "  </thead>\n",
       "  <tbody>\n",
       "    <tr>\n",
       "      <th>0</th>\n",
       "      <td>0</td>\n",
       "      <td>0</td>\n",
       "      <td>0</td>\n",
       "      <td>166</td>\n",
       "    </tr>\n",
       "    <tr>\n",
       "      <th>1</th>\n",
       "      <td>105</td>\n",
       "      <td>0</td>\n",
       "      <td>0</td>\n",
       "      <td>0</td>\n",
       "    </tr>\n",
       "    <tr>\n",
       "      <th>2</th>\n",
       "      <td>0</td>\n",
       "      <td>42</td>\n",
       "      <td>86</td>\n",
       "      <td>0</td>\n",
       "    </tr>\n",
       "    <tr>\n",
       "      <th>3</th>\n",
       "      <td>0</td>\n",
       "      <td>168</td>\n",
       "      <td>0</td>\n",
       "      <td>111</td>\n",
       "    </tr>\n",
       "    <tr>\n",
       "      <th>4</th>\n",
       "      <td>45</td>\n",
       "      <td>0</td>\n",
       "      <td>0</td>\n",
       "      <td>0</td>\n",
       "    </tr>\n",
       "    <tr>\n",
       "      <th>...</th>\n",
       "      <td>...</td>\n",
       "      <td>...</td>\n",
       "      <td>...</td>\n",
       "      <td>...</td>\n",
       "    </tr>\n",
       "    <tr>\n",
       "      <th>2575</th>\n",
       "      <td>98</td>\n",
       "      <td>0</td>\n",
       "      <td>0</td>\n",
       "      <td>40</td>\n",
       "    </tr>\n",
       "    <tr>\n",
       "      <th>2576</th>\n",
       "      <td>0</td>\n",
       "      <td>0</td>\n",
       "      <td>0</td>\n",
       "      <td>0</td>\n",
       "    </tr>\n",
       "    <tr>\n",
       "      <th>2577</th>\n",
       "      <td>0</td>\n",
       "      <td>0</td>\n",
       "      <td>0</td>\n",
       "      <td>0</td>\n",
       "    </tr>\n",
       "    <tr>\n",
       "      <th>2578</th>\n",
       "      <td>96</td>\n",
       "      <td>0</td>\n",
       "      <td>0</td>\n",
       "      <td>0</td>\n",
       "    </tr>\n",
       "    <tr>\n",
       "      <th>2579</th>\n",
       "      <td>81</td>\n",
       "      <td>0</td>\n",
       "      <td>0</td>\n",
       "      <td>0</td>\n",
       "    </tr>\n",
       "  </tbody>\n",
       "</table>\n",
       "<p>2580 rows × 4 columns</p>\n",
       "</div>"
      ],
      "text/plain": [
       "      OpenPorchSF  EnclosedPorch  3SsnPorch  ScreenPorch\n",
       "0               0              0          0          166\n",
       "1             105              0          0            0\n",
       "2               0             42         86            0\n",
       "3               0            168          0          111\n",
       "4              45              0          0            0\n",
       "...           ...            ...        ...          ...\n",
       "2575           98              0          0           40\n",
       "2576            0              0          0            0\n",
       "2577            0              0          0            0\n",
       "2578           96              0          0            0\n",
       "2579           81              0          0            0\n",
       "\n",
       "[2580 rows x 4 columns]"
      ]
     },
     "execution_count": 7,
     "metadata": {},
     "output_type": "execute_result"
    }
   ],
   "source": [
    "# indoor space\n",
    "features.filter(regex='Porch')"
   ]
  },
  {
   "cell_type": "code",
   "execution_count": 22,
   "id": "4a8dc279",
   "metadata": {},
   "outputs": [
    {
     "data": {
      "text/html": [
       "<div>\n",
       "<style scoped>\n",
       "    .dataframe tbody tr th:only-of-type {\n",
       "        vertical-align: middle;\n",
       "    }\n",
       "\n",
       "    .dataframe tbody tr th {\n",
       "        vertical-align: top;\n",
       "    }\n",
       "\n",
       "    .dataframe thead th {\n",
       "        text-align: right;\n",
       "    }\n",
       "</style>\n",
       "<table border=\"1\" class=\"dataframe\">\n",
       "  <thead>\n",
       "    <tr style=\"text-align: right;\">\n",
       "      <th></th>\n",
       "      <th>BsmtFinSF1</th>\n",
       "      <th>BsmtFinSF2</th>\n",
       "      <th>BsmtUnfSF</th>\n",
       "      <th>TotalBsmtSF</th>\n",
       "      <th>1stFlrSF</th>\n",
       "      <th>2ndFlrSF</th>\n",
       "      <th>LowQualFinSF</th>\n",
       "      <th>WoodDeckSF</th>\n",
       "      <th>OpenPorchSF</th>\n",
       "    </tr>\n",
       "  </thead>\n",
       "  <tbody>\n",
       "    <tr>\n",
       "      <th>0</th>\n",
       "      <td>238.0</td>\n",
       "      <td>0.0</td>\n",
       "      <td>618.0</td>\n",
       "      <td>856.0</td>\n",
       "      <td>856</td>\n",
       "      <td>0</td>\n",
       "      <td>0</td>\n",
       "      <td>0</td>\n",
       "      <td>0</td>\n",
       "    </tr>\n",
       "    <tr>\n",
       "      <th>1</th>\n",
       "      <td>552.0</td>\n",
       "      <td>393.0</td>\n",
       "      <td>104.0</td>\n",
       "      <td>1049.0</td>\n",
       "      <td>1049</td>\n",
       "      <td>0</td>\n",
       "      <td>0</td>\n",
       "      <td>0</td>\n",
       "      <td>105</td>\n",
       "    </tr>\n",
       "    <tr>\n",
       "      <th>2</th>\n",
       "      <td>737.0</td>\n",
       "      <td>0.0</td>\n",
       "      <td>100.0</td>\n",
       "      <td>837.0</td>\n",
       "      <td>1001</td>\n",
       "      <td>0</td>\n",
       "      <td>0</td>\n",
       "      <td>154</td>\n",
       "      <td>0</td>\n",
       "    </tr>\n",
       "    <tr>\n",
       "      <th>3</th>\n",
       "      <td>0.0</td>\n",
       "      <td>0.0</td>\n",
       "      <td>405.0</td>\n",
       "      <td>405.0</td>\n",
       "      <td>717</td>\n",
       "      <td>322</td>\n",
       "      <td>0</td>\n",
       "      <td>0</td>\n",
       "      <td>0</td>\n",
       "    </tr>\n",
       "    <tr>\n",
       "      <th>4</th>\n",
       "      <td>643.0</td>\n",
       "      <td>0.0</td>\n",
       "      <td>167.0</td>\n",
       "      <td>810.0</td>\n",
       "      <td>810</td>\n",
       "      <td>855</td>\n",
       "      <td>0</td>\n",
       "      <td>0</td>\n",
       "      <td>45</td>\n",
       "    </tr>\n",
       "    <tr>\n",
       "      <th>...</th>\n",
       "      <td>...</td>\n",
       "      <td>...</td>\n",
       "      <td>...</td>\n",
       "      <td>...</td>\n",
       "      <td>...</td>\n",
       "      <td>...</td>\n",
       "      <td>...</td>\n",
       "      <td>...</td>\n",
       "      <td>...</td>\n",
       "    </tr>\n",
       "    <tr>\n",
       "      <th>2575</th>\n",
       "      <td>0.0</td>\n",
       "      <td>0.0</td>\n",
       "      <td>952.0</td>\n",
       "      <td>952.0</td>\n",
       "      <td>952</td>\n",
       "      <td>0</td>\n",
       "      <td>0</td>\n",
       "      <td>0</td>\n",
       "      <td>98</td>\n",
       "    </tr>\n",
       "    <tr>\n",
       "      <th>2576</th>\n",
       "      <td>0.0</td>\n",
       "      <td>0.0</td>\n",
       "      <td>0.0</td>\n",
       "      <td>0.0</td>\n",
       "      <td>1733</td>\n",
       "      <td>0</td>\n",
       "      <td>0</td>\n",
       "      <td>0</td>\n",
       "      <td>0</td>\n",
       "    </tr>\n",
       "    <tr>\n",
       "      <th>2577</th>\n",
       "      <td>284.0</td>\n",
       "      <td>0.0</td>\n",
       "      <td>717.0</td>\n",
       "      <td>1001.0</td>\n",
       "      <td>1001</td>\n",
       "      <td>1001</td>\n",
       "      <td>0</td>\n",
       "      <td>0</td>\n",
       "      <td>0</td>\n",
       "    </tr>\n",
       "    <tr>\n",
       "      <th>2578</th>\n",
       "      <td>841.0</td>\n",
       "      <td>0.0</td>\n",
       "      <td>144.0</td>\n",
       "      <td>985.0</td>\n",
       "      <td>985</td>\n",
       "      <td>857</td>\n",
       "      <td>0</td>\n",
       "      <td>193</td>\n",
       "      <td>96</td>\n",
       "    </tr>\n",
       "    <tr>\n",
       "      <th>2579</th>\n",
       "      <td>380.0</td>\n",
       "      <td>0.0</td>\n",
       "      <td>397.0</td>\n",
       "      <td>777.0</td>\n",
       "      <td>1065</td>\n",
       "      <td>846</td>\n",
       "      <td>0</td>\n",
       "      <td>182</td>\n",
       "      <td>81</td>\n",
       "    </tr>\n",
       "  </tbody>\n",
       "</table>\n",
       "<p>2580 rows × 9 columns</p>\n",
       "</div>"
      ],
      "text/plain": [
       "      BsmtFinSF1  BsmtFinSF2  BsmtUnfSF  TotalBsmtSF  1stFlrSF  2ndFlrSF  \\\n",
       "0          238.0         0.0      618.0        856.0       856         0   \n",
       "1          552.0       393.0      104.0       1049.0      1049         0   \n",
       "2          737.0         0.0      100.0        837.0      1001         0   \n",
       "3            0.0         0.0      405.0        405.0       717       322   \n",
       "4          643.0         0.0      167.0        810.0       810       855   \n",
       "...          ...         ...        ...          ...       ...       ...   \n",
       "2575         0.0         0.0      952.0        952.0       952         0   \n",
       "2576         0.0         0.0        0.0          0.0      1733         0   \n",
       "2577       284.0         0.0      717.0       1001.0      1001      1001   \n",
       "2578       841.0         0.0      144.0        985.0       985       857   \n",
       "2579       380.0         0.0      397.0        777.0      1065       846   \n",
       "\n",
       "      LowQualFinSF  WoodDeckSF  OpenPorchSF  \n",
       "0                0           0            0  \n",
       "1                0           0          105  \n",
       "2                0         154            0  \n",
       "3                0           0            0  \n",
       "4                0           0           45  \n",
       "...            ...         ...          ...  \n",
       "2575             0           0           98  \n",
       "2576             0           0            0  \n",
       "2577             0           0            0  \n",
       "2578             0         193           96  \n",
       "2579             0         182           81  \n",
       "\n",
       "[2580 rows x 9 columns]"
      ]
     },
     "execution_count": 22,
     "metadata": {},
     "output_type": "execute_result"
    }
   ],
   "source": [
    "# indoor space\n",
    "features.filter(regex='SF')"
   ]
  },
  {
   "cell_type": "code",
   "execution_count": 38,
   "id": "6bc49d71",
   "metadata": {},
   "outputs": [],
   "source": [
    "# for most homes, total ground living area is sum of 1st + 2nd floor\n",
    "# if home has low quality finished sq ft, this is included in living area\n",
    "\n",
    "features['TotalIndoorSF'] = features['TotalBsmtSF'] + features['GrLivArea']"
   ]
  },
  {
   "cell_type": "code",
   "execution_count": 12,
   "id": "113aeecf",
   "metadata": {},
   "outputs": [
    {
     "data": {
      "text/plain": [
       "<Axes: >"
      ]
     },
     "execution_count": 12,
     "metadata": {},
     "output_type": "execute_result"
    },
    {
     "data": {
      "image/png": "[encoded data removed]",
      "text/plain": [
       "<Figure size 640x480 with 1 Axes>"
      ]
     },
     "metadata": {},
     "output_type": "display_data"
    }
   ],
   "source": [
    "features['LotArea'].hist()"
   ]
  },
  {
   "cell_type": "code",
   "execution_count": 14,
   "id": "3ab4474d",
   "metadata": {},
   "outputs": [
    {
     "data": {
      "text/plain": [
       "<Axes: >"
      ]
     },
     "execution_count": 14,
     "metadata": {},
     "output_type": "execute_result"
    },
    {
     "data": {
      "image/png": "[encoded data removed]",
      "text/plain": [
       "<Figure size 640x480 with 1 Axes>"
      ]
     },
     "metadata": {},
     "output_type": "display_data"
    }
   ],
   "source": [
    "features['LotPercent'] = features['1stFlrSF'] / features['LotArea']\n",
    "features['LotPercent'].hist()"
   ]
  },
  {
   "cell_type": "code",
   "execution_count": 15,
   "id": "8117c3b0",
   "metadata": {},
   "outputs": [
    {
     "data": {
      "text/plain": [
       "(2580, 80)"
      ]
     },
     "execution_count": 15,
     "metadata": {},
     "output_type": "execute_result"
    }
   ],
   "source": [
    "features.shape"
   ]
  },
  {
   "cell_type": "code",
   "execution_count": null,
   "id": "b4724285",
   "metadata": {},
   "outputs": [],
   "source": []
  },
  {
   "cell_type": "code",
   "execution_count": 20,
   "id": "f3a340d6",
   "metadata": {},
   "outputs": [
    {
     "data": {
      "text/plain": [
       "<matplotlib.collections.PathCollection at 0x7fcc8aa41c00>"
      ]
     },
     "execution_count": 20,
     "metadata": {},
     "output_type": "execute_result"
    },
    {
     "data": {
      "image/png": "[encoded data removed]",
      "text/plain": [
       "<Figure size 640x480 with 1 Axes>"
      ]
     },
     "metadata": {},
     "output_type": "display_data"
    }
   ],
   "source": [
    "plt.scatter(housing_trimmed['OverallQual'], housing_trimmed['SalePrice'])"
   ]
  },
  {
   "cell_type": "code",
   "execution_count": 22,
   "id": "c35140de",
   "metadata": {},
   "outputs": [
    {
     "data": {
      "text/plain": [
       "<matplotlib.collections.PathCollection at 0x7fcc87aa6b00>"
      ]
     },
     "execution_count": 22,
     "metadata": {},
     "output_type": "execute_result"
    },
    {
     "data": {
      "image/png": "[encoded data removed]",
      "text/plain": [
       "<Figure size 640x480 with 1 Axes>"
      ]
     },
     "metadata": {},
     "output_type": "display_data"
    }
   ],
   "source": [
    "plt.scatter(housing_trimmed['GrLivArea'], housing_trimmed['SalePrice'])"
   ]
  },
  {
   "cell_type": "code",
   "execution_count": 29,
   "id": "e730af43",
   "metadata": {},
   "outputs": [],
   "source": [
    "features['LivArea_sq'] = features['GrLivArea']**2\n",
    "features['Log_LivArea'] = np.log(features['GrLivArea'])"
   ]
  },
  {
   "cell_type": "code",
   "execution_count": 42,
   "id": "70b8aa00",
   "metadata": {},
   "outputs": [
    {
     "data": {
      "text/plain": [
       "<matplotlib.collections.PathCollection at 0x7fcc7445ba30>"
      ]
     },
     "execution_count": 42,
     "metadata": {},
     "output_type": "execute_result"
    },
    {
     "data": {
      "image/png": "[encoded data removed]",
      "text/plain": [
       "<Figure size 640x480 with 1 Axes>"
      ]
     },
     "metadata": {},
     "output_type": "display_data"
    }
   ],
   "source": [
    "plt.scatter(features['LivArea_sq'], price, c = 'blue')\n",
    "#plt.scatter(features['GrLivArea'], price, c = 'green')\n",
    "#plt.scatter(features['Log_LivArea'], price, c = 'orange')"
   ]
  },
  {
   "cell_type": "code",
   "execution_count": 23,
   "id": "f6fcec13",
   "metadata": {},
   "outputs": [
    {
     "data": {
      "text/plain": [
       "<matplotlib.collections.PathCollection at 0x7fcc87aa70a0>"
      ]
     },
     "execution_count": 23,
     "metadata": {},
     "output_type": "execute_result"
    },
    {
     "data": {
      "image/png": "[encoded data removed]",
      "text/plain": [
       "<Figure size 640x480 with 1 Axes>"
      ]
     },
     "metadata": {},
     "output_type": "display_data"
    }
   ],
   "source": [
    "plt.scatter(housing_trimmed['YearBuilt'], housing_trimmed['SalePrice'])"
   ]
  },
  {
   "cell_type": "code",
   "execution_count": null,
   "id": "62ce7dba",
   "metadata": {},
   "outputs": [],
   "source": []
  },
  {
   "cell_type": "code",
   "execution_count": null,
   "id": "06bd05f1",
   "metadata": {},
   "outputs": [],
   "source": [
    "from sklearn.preprocessing import PolynomialFeatures\n",
    "from sklearn.linear_model import LinearRegression\n",
    "\n",
    "# Create some data\n",
    "x1 = [1, 2, 3, 4, 5]\n",
    "x2 = [2, 4, 6, 8, 10]\n",
    "y = [3, 6, 9, 12, 15]\n",
    "\n",
    "# Create interaction terms\n",
    "poly = PolynomialFeatures(degree=2, include_bias=False)\n",
    "X = poly.fit_transform(np.array([x1, x2]).T)\n",
    "\n",
    "# Fit a linear regression model\n",
    "model = LinearRegression()\n",
    "model.fit(X, y)\n",
    "\n",
    "# Print the coefficients\n",
    "print(model.coef_)"
   ]
  },
  {
   "cell_type": "code",
   "execution_count": null,
   "id": "060dd13a",
   "metadata": {},
   "outputs": [],
   "source": []
  },
  {
   "cell_type": "code",
   "execution_count": 16,
   "id": "a839c274",
   "metadata": {},
   "outputs": [],
   "source": [
    "housing_newfeat = pd.concat([features, price], axis = 1)"
   ]
  },
  {
   "cell_type": "code",
   "execution_count": 17,
   "id": "2bd7d63b",
   "metadata": {},
   "outputs": [],
   "source": [
    "# export as csv\n",
    "housing_newfeat.to_csv('data/houseprice_newfeat.csv', index=False)"
   ]
  }
 ],
 "metadata": {
  "kernelspec": {
   "display_name": "Python 3 (ipykernel)",
   "language": "python",
   "name": "python3"
  },
  "language_info": {
   "codemirror_mode": {
    "name": "ipython",
    "version": 3
   },
   "file_extension": ".py",
   "mimetype": "text/x-python",
   "name": "python",
   "nbconvert_exporter": "python",
   "pygments_lexer": "ipython3",
   "version": "3.10.9"
  }
 },
 "nbformat": 4,
 "nbformat_minor": 5
}
